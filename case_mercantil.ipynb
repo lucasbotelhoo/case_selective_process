{
 "cells": [
  {
   "cell_type": "markdown",
   "id": "1a223cfe-9010-4391-984a-c70bb0530d9e",
   "metadata": {
    "tags": []
   },
   "source": [
    "## Bibliotecas"
   ]
  },
  {
   "cell_type": "code",
   "execution_count": 94,
   "id": "8a443a5a-d96a-4ad4-a001-6251713bee6a",
   "metadata": {},
   "outputs": [],
   "source": [
    "import sklearn\n",
    "from sklearn import linear_model\n",
    "import statsmodels.api as sm\n",
    "import numpy as np\n",
    "import pandas as pd\n",
    "import seaborn as sns\n",
    "import warnings\n",
    "warnings.filterwarnings(\"ignore\")\n",
    "import matplotlib.pyplot as plt\n",
    "from sklearn.cluster import KMeans\n",
    "from sklearn.metrics import mean_squared_error, r2_score\n",
    "from sklearn.model_selection import train_test_split"
   ]
  },
  {
   "cell_type": "markdown",
   "id": "c49dc1eb-394b-4a89-8cd9-fbbdb669c3d6",
   "metadata": {},
   "source": [
    "## Análise Exploratória de Dados"
   ]
  },
  {
   "cell_type": "code",
   "execution_count": 5,
   "id": "3f5119a6-3a77-491a-904d-14240650fdcb",
   "metadata": {},
   "outputs": [],
   "source": [
    "df_ctr = pd.read_excel(r'C:\\Users\\lucas\\OneDrive\\Documentos\\Case Mercantil\\Case e Teórico_Políticas\\Case e Teórico_Políticas\\Base_Case_1.xlsx',\n",
    "                   sheet_name='ctr', skiprows= 1)"
   ]
  },
  {
   "cell_type": "code",
   "execution_count": 8,
   "id": "e320bcae-4df2-42ff-9027-005d9e1819e5",
   "metadata": {},
   "outputs": [
    {
     "name": "stdout",
     "output_type": "stream",
     "text": [
      "<class 'pandas.core.frame.DataFrame'>\n",
      "RangeIndex: 11140 entries, 0 to 11139\n",
      "Data columns (total 2 columns):\n",
      " #   Column                 Non-Null Count  Dtype  \n",
      "---  ------                 --------------  -----  \n",
      " 0   chave                  11140 non-null  int64  \n",
      " 1   Crédito contrato (R$)  11140 non-null  float64\n",
      "dtypes: float64(1), int64(1)\n",
      "memory usage: 174.2 KB\n"
     ]
    }
   ],
   "source": [
    "df_ctr.info()"
   ]
  },
  {
   "cell_type": "code",
   "execution_count": 7,
   "id": "ae7330ea-f2c6-416a-8c5b-e1fca81675b2",
   "metadata": {},
   "outputs": [
    {
     "data": {
      "text/plain": [
       "(11140, 2)"
      ]
     },
     "execution_count": 7,
     "metadata": {},
     "output_type": "execute_result"
    }
   ],
   "source": [
    "df_ctr.shape"
   ]
  },
  {
   "cell_type": "code",
   "execution_count": 9,
   "id": "6fcb5e92-f1a1-4ace-84ee-0acb676484fc",
   "metadata": {},
   "outputs": [
    {
     "data": {
      "text/html": [
       "<div>\n",
       "<style scoped>\n",
       "    .dataframe tbody tr th:only-of-type {\n",
       "        vertical-align: middle;\n",
       "    }\n",
       "\n",
       "    .dataframe tbody tr th {\n",
       "        vertical-align: top;\n",
       "    }\n",
       "\n",
       "    .dataframe thead th {\n",
       "        text-align: right;\n",
       "    }\n",
       "</style>\n",
       "<table border=\"1\" class=\"dataframe\">\n",
       "  <thead>\n",
       "    <tr style=\"text-align: right;\">\n",
       "      <th></th>\n",
       "      <th>chave</th>\n",
       "      <th>Crédito contrato (R$)</th>\n",
       "    </tr>\n",
       "  </thead>\n",
       "  <tbody>\n",
       "    <tr>\n",
       "      <th>88</th>\n",
       "      <td>1022677</td>\n",
       "      <td>409.179161</td>\n",
       "    </tr>\n",
       "    <tr>\n",
       "      <th>89</th>\n",
       "      <td>1022677</td>\n",
       "      <td>831.976888</td>\n",
       "    </tr>\n",
       "  </tbody>\n",
       "</table>\n",
       "</div>"
      ],
      "text/plain": [
       "      chave  Crédito contrato (R$)\n",
       "88  1022677             409.179161\n",
       "89  1022677             831.976888"
      ]
     },
     "execution_count": 9,
     "metadata": {},
     "output_type": "execute_result"
    }
   ],
   "source": [
    "df_ctr[df_ctr['chave']==1022677]"
   ]
  },
  {
   "cell_type": "code",
   "execution_count": 10,
   "id": "3660f32e-a923-4c7a-b8d9-51165989c5f9",
   "metadata": {},
   "outputs": [],
   "source": [
    "df_ctr.rename(columns={'Crédito contrato (R$)':'credito_liberado'},inplace=True)"
   ]
  },
  {
   "cell_type": "code",
   "execution_count": 11,
   "id": "32fc2afe-e365-4edb-9e61-c36f39314577",
   "metadata": {},
   "outputs": [
    {
     "data": {
      "text/html": [
       "<div>\n",
       "<style scoped>\n",
       "    .dataframe tbody tr th:only-of-type {\n",
       "        vertical-align: middle;\n",
       "    }\n",
       "\n",
       "    .dataframe tbody tr th {\n",
       "        vertical-align: top;\n",
       "    }\n",
       "\n",
       "    .dataframe thead th {\n",
       "        text-align: right;\n",
       "    }\n",
       "</style>\n",
       "<table border=\"1\" class=\"dataframe\">\n",
       "  <thead>\n",
       "    <tr style=\"text-align: right;\">\n",
       "      <th></th>\n",
       "      <th>chave</th>\n",
       "      <th>credito_liberado</th>\n",
       "    </tr>\n",
       "  </thead>\n",
       "  <tbody>\n",
       "    <tr>\n",
       "      <th>0</th>\n",
       "      <td>101280</td>\n",
       "      <td>400.069068</td>\n",
       "    </tr>\n",
       "    <tr>\n",
       "      <th>1</th>\n",
       "      <td>104432</td>\n",
       "      <td>1861.468141</td>\n",
       "    </tr>\n",
       "    <tr>\n",
       "      <th>2</th>\n",
       "      <td>110108</td>\n",
       "      <td>1646.451649</td>\n",
       "    </tr>\n",
       "    <tr>\n",
       "      <th>3</th>\n",
       "      <td>115472</td>\n",
       "      <td>4322.064763</td>\n",
       "    </tr>\n",
       "    <tr>\n",
       "      <th>4</th>\n",
       "      <td>119280</td>\n",
       "      <td>203.791678</td>\n",
       "    </tr>\n",
       "    <tr>\n",
       "      <th>...</th>\n",
       "      <td>...</td>\n",
       "      <td>...</td>\n",
       "    </tr>\n",
       "    <tr>\n",
       "      <th>11135</th>\n",
       "      <td>97504833</td>\n",
       "      <td>643.352351</td>\n",
       "    </tr>\n",
       "    <tr>\n",
       "      <th>11136</th>\n",
       "      <td>97504969</td>\n",
       "      <td>1030.557494</td>\n",
       "    </tr>\n",
       "    <tr>\n",
       "      <th>11137</th>\n",
       "      <td>97513076</td>\n",
       "      <td>130.049136</td>\n",
       "    </tr>\n",
       "    <tr>\n",
       "      <th>11138</th>\n",
       "      <td>97513476</td>\n",
       "      <td>589.081774</td>\n",
       "    </tr>\n",
       "    <tr>\n",
       "      <th>11139</th>\n",
       "      <td>97513528</td>\n",
       "      <td>267.938847</td>\n",
       "    </tr>\n",
       "  </tbody>\n",
       "</table>\n",
       "<p>11140 rows × 2 columns</p>\n",
       "</div>"
      ],
      "text/plain": [
       "          chave  credito_liberado\n",
       "0        101280        400.069068\n",
       "1        104432       1861.468141\n",
       "2        110108       1646.451649\n",
       "3        115472       4322.064763\n",
       "4        119280        203.791678\n",
       "...         ...               ...\n",
       "11135  97504833        643.352351\n",
       "11136  97504969       1030.557494\n",
       "11137  97513076        130.049136\n",
       "11138  97513476        589.081774\n",
       "11139  97513528        267.938847\n",
       "\n",
       "[11140 rows x 2 columns]"
      ]
     },
     "execution_count": 11,
     "metadata": {},
     "output_type": "execute_result"
    }
   ],
   "source": [
    "df_ctr"
   ]
  },
  {
   "cell_type": "code",
   "execution_count": 12,
   "id": "9f8b028d-fb37-4832-8352-4f4613e0c942",
   "metadata": {},
   "outputs": [],
   "source": [
    "df_ctr = df_ctr.groupby(['chave']).credito_liberado.agg(['sum','count']).rename(columns={'sum':'soma_ctr','count':'qtde_ctr'}).reset_index()"
   ]
  },
  {
   "cell_type": "code",
   "execution_count": 13,
   "id": "0c180e1b-19b0-4941-9e69-ae88f94d823c",
   "metadata": {},
   "outputs": [
    {
     "data": {
      "text/html": [
       "<div>\n",
       "<style scoped>\n",
       "    .dataframe tbody tr th:only-of-type {\n",
       "        vertical-align: middle;\n",
       "    }\n",
       "\n",
       "    .dataframe tbody tr th {\n",
       "        vertical-align: top;\n",
       "    }\n",
       "\n",
       "    .dataframe thead th {\n",
       "        text-align: right;\n",
       "    }\n",
       "</style>\n",
       "<table border=\"1\" class=\"dataframe\">\n",
       "  <thead>\n",
       "    <tr style=\"text-align: right;\">\n",
       "      <th></th>\n",
       "      <th>chave</th>\n",
       "      <th>soma_ctr</th>\n",
       "      <th>qtde_ctr</th>\n",
       "    </tr>\n",
       "  </thead>\n",
       "  <tbody>\n",
       "    <tr>\n",
       "      <th>0</th>\n",
       "      <td>101280</td>\n",
       "      <td>400.069068</td>\n",
       "      <td>1</td>\n",
       "    </tr>\n",
       "    <tr>\n",
       "      <th>1</th>\n",
       "      <td>104432</td>\n",
       "      <td>1861.468141</td>\n",
       "      <td>1</td>\n",
       "    </tr>\n",
       "    <tr>\n",
       "      <th>2</th>\n",
       "      <td>110108</td>\n",
       "      <td>1646.451649</td>\n",
       "      <td>1</td>\n",
       "    </tr>\n",
       "    <tr>\n",
       "      <th>3</th>\n",
       "      <td>115472</td>\n",
       "      <td>4322.064763</td>\n",
       "      <td>1</td>\n",
       "    </tr>\n",
       "    <tr>\n",
       "      <th>4</th>\n",
       "      <td>119280</td>\n",
       "      <td>203.791678</td>\n",
       "      <td>1</td>\n",
       "    </tr>\n",
       "    <tr>\n",
       "      <th>...</th>\n",
       "      <td>...</td>\n",
       "      <td>...</td>\n",
       "      <td>...</td>\n",
       "    </tr>\n",
       "    <tr>\n",
       "      <th>11009</th>\n",
       "      <td>97504833</td>\n",
       "      <td>643.352351</td>\n",
       "      <td>1</td>\n",
       "    </tr>\n",
       "    <tr>\n",
       "      <th>11010</th>\n",
       "      <td>97504969</td>\n",
       "      <td>1030.557494</td>\n",
       "      <td>1</td>\n",
       "    </tr>\n",
       "    <tr>\n",
       "      <th>11011</th>\n",
       "      <td>97513076</td>\n",
       "      <td>130.049136</td>\n",
       "      <td>1</td>\n",
       "    </tr>\n",
       "    <tr>\n",
       "      <th>11012</th>\n",
       "      <td>97513476</td>\n",
       "      <td>589.081774</td>\n",
       "      <td>1</td>\n",
       "    </tr>\n",
       "    <tr>\n",
       "      <th>11013</th>\n",
       "      <td>97513528</td>\n",
       "      <td>267.938847</td>\n",
       "      <td>1</td>\n",
       "    </tr>\n",
       "  </tbody>\n",
       "</table>\n",
       "<p>11014 rows × 3 columns</p>\n",
       "</div>"
      ],
      "text/plain": [
       "          chave     soma_ctr  qtde_ctr\n",
       "0        101280   400.069068         1\n",
       "1        104432  1861.468141         1\n",
       "2        110108  1646.451649         1\n",
       "3        115472  4322.064763         1\n",
       "4        119280   203.791678         1\n",
       "...         ...          ...       ...\n",
       "11009  97504833   643.352351         1\n",
       "11010  97504969  1030.557494         1\n",
       "11011  97513076   130.049136         1\n",
       "11012  97513476   589.081774         1\n",
       "11013  97513528   267.938847         1\n",
       "\n",
       "[11014 rows x 3 columns]"
      ]
     },
     "execution_count": 13,
     "metadata": {},
     "output_type": "execute_result"
    }
   ],
   "source": [
    "df_ctr"
   ]
  },
  {
   "cell_type": "code",
   "execution_count": 14,
   "id": "285e2af8-698e-4035-a25d-814ebc55ca11",
   "metadata": {},
   "outputs": [
    {
     "data": {
      "text/html": [
       "<div>\n",
       "<style scoped>\n",
       "    .dataframe tbody tr th:only-of-type {\n",
       "        vertical-align: middle;\n",
       "    }\n",
       "\n",
       "    .dataframe tbody tr th {\n",
       "        vertical-align: top;\n",
       "    }\n",
       "\n",
       "    .dataframe thead th {\n",
       "        text-align: right;\n",
       "    }\n",
       "</style>\n",
       "<table border=\"1\" class=\"dataframe\">\n",
       "  <thead>\n",
       "    <tr style=\"text-align: right;\">\n",
       "      <th></th>\n",
       "      <th>chave</th>\n",
       "      <th>soma_ctr</th>\n",
       "      <th>qtde_ctr</th>\n",
       "    </tr>\n",
       "  </thead>\n",
       "  <tbody>\n",
       "    <tr>\n",
       "      <th>88</th>\n",
       "      <td>1022677</td>\n",
       "      <td>1241.156049</td>\n",
       "      <td>2</td>\n",
       "    </tr>\n",
       "  </tbody>\n",
       "</table>\n",
       "</div>"
      ],
      "text/plain": [
       "      chave     soma_ctr  qtde_ctr\n",
       "88  1022677  1241.156049         2"
      ]
     },
     "execution_count": 14,
     "metadata": {},
     "output_type": "execute_result"
    }
   ],
   "source": [
    "df_ctr[(df_ctr['chave']==1022677)]"
   ]
  },
  {
   "cell_type": "code",
   "execution_count": 15,
   "id": "2a1ef36a-95ab-459a-91b3-f598a590e589",
   "metadata": {},
   "outputs": [],
   "source": [
    "df_pgto = pd.read_excel(r'C:\\Users\\lucas\\OneDrive\\Documentos\\Case Mercantil\\Case e Teórico_Políticas\\Case e Teórico_Políticas\\Base_Case_1.xlsx',\n",
    "                   sheet_name='pgto', skiprows= 1)"
   ]
  },
  {
   "cell_type": "code",
   "execution_count": 16,
   "id": "b3f4fb7f-1dcc-443e-b0f6-a9968c6ccc29",
   "metadata": {},
   "outputs": [
    {
     "data": {
      "text/html": [
       "<div>\n",
       "<style scoped>\n",
       "    .dataframe tbody tr th:only-of-type {\n",
       "        vertical-align: middle;\n",
       "    }\n",
       "\n",
       "    .dataframe tbody tr th {\n",
       "        vertical-align: top;\n",
       "    }\n",
       "\n",
       "    .dataframe thead th {\n",
       "        text-align: right;\n",
       "    }\n",
       "</style>\n",
       "<table border=\"1\" class=\"dataframe\">\n",
       "  <thead>\n",
       "    <tr style=\"text-align: right;\">\n",
       "      <th></th>\n",
       "      <th>chave</th>\n",
       "      <th>Pagamentos Realizados (R$)</th>\n",
       "    </tr>\n",
       "  </thead>\n",
       "  <tbody>\n",
       "    <tr>\n",
       "      <th>0</th>\n",
       "      <td>101280</td>\n",
       "      <td>262.023264</td>\n",
       "    </tr>\n",
       "    <tr>\n",
       "      <th>1</th>\n",
       "      <td>104432</td>\n",
       "      <td>888.106038</td>\n",
       "    </tr>\n",
       "    <tr>\n",
       "      <th>2</th>\n",
       "      <td>110108</td>\n",
       "      <td>1646.451649</td>\n",
       "    </tr>\n",
       "    <tr>\n",
       "      <th>3</th>\n",
       "      <td>115472</td>\n",
       "      <td>4322.064763</td>\n",
       "    </tr>\n",
       "    <tr>\n",
       "      <th>4</th>\n",
       "      <td>119280</td>\n",
       "      <td>203.791678</td>\n",
       "    </tr>\n",
       "  </tbody>\n",
       "</table>\n",
       "</div>"
      ],
      "text/plain": [
       "    chave  Pagamentos Realizados (R$)\n",
       "0  101280                  262.023264\n",
       "1  104432                  888.106038\n",
       "2  110108                 1646.451649\n",
       "3  115472                 4322.064763\n",
       "4  119280                  203.791678"
      ]
     },
     "execution_count": 16,
     "metadata": {},
     "output_type": "execute_result"
    }
   ],
   "source": [
    "df_pgto.head()"
   ]
  },
  {
   "cell_type": "code",
   "execution_count": 17,
   "id": "85e43c34-0e7a-442f-a9e5-f93e9b2c8584",
   "metadata": {},
   "outputs": [
    {
     "data": {
      "text/plain": [
       "(10801, 2)"
      ]
     },
     "execution_count": 17,
     "metadata": {},
     "output_type": "execute_result"
    }
   ],
   "source": [
    "df_pgto.shape"
   ]
  },
  {
   "cell_type": "code",
   "execution_count": 18,
   "id": "ffb04957-e2b3-4d5c-8d09-39e5d120ef52",
   "metadata": {},
   "outputs": [
    {
     "data": {
      "text/html": [
       "<div>\n",
       "<style scoped>\n",
       "    .dataframe tbody tr th:only-of-type {\n",
       "        vertical-align: middle;\n",
       "    }\n",
       "\n",
       "    .dataframe tbody tr th {\n",
       "        vertical-align: top;\n",
       "    }\n",
       "\n",
       "    .dataframe thead th {\n",
       "        text-align: right;\n",
       "    }\n",
       "</style>\n",
       "<table border=\"1\" class=\"dataframe\">\n",
       "  <thead>\n",
       "    <tr style=\"text-align: right;\">\n",
       "      <th></th>\n",
       "      <th>chave</th>\n",
       "      <th>Pagamentos Realizados (R$)</th>\n",
       "    </tr>\n",
       "  </thead>\n",
       "  <tbody>\n",
       "    <tr>\n",
       "      <th>86</th>\n",
       "      <td>1022677</td>\n",
       "      <td>409.179161</td>\n",
       "    </tr>\n",
       "    <tr>\n",
       "      <th>87</th>\n",
       "      <td>1022677</td>\n",
       "      <td>831.976888</td>\n",
       "    </tr>\n",
       "  </tbody>\n",
       "</table>\n",
       "</div>"
      ],
      "text/plain": [
       "      chave  Pagamentos Realizados (R$)\n",
       "86  1022677                  409.179161\n",
       "87  1022677                  831.976888"
      ]
     },
     "execution_count": 18,
     "metadata": {},
     "output_type": "execute_result"
    }
   ],
   "source": [
    "df_pgto[df_pgto['chave']==1022677]"
   ]
  },
  {
   "cell_type": "code",
   "execution_count": 19,
   "id": "fbd7b852-393c-4938-aa39-22896155bc00",
   "metadata": {},
   "outputs": [],
   "source": [
    "df_pgto.rename(columns={'Pagamentos Realizados (R$)':'pgtos_realizados'},inplace=True)"
   ]
  },
  {
   "cell_type": "code",
   "execution_count": 20,
   "id": "19f3b6af-491d-40dd-b7b8-9a7ea3f3d2fc",
   "metadata": {},
   "outputs": [
    {
     "data": {
      "text/html": [
       "<div>\n",
       "<style scoped>\n",
       "    .dataframe tbody tr th:only-of-type {\n",
       "        vertical-align: middle;\n",
       "    }\n",
       "\n",
       "    .dataframe tbody tr th {\n",
       "        vertical-align: top;\n",
       "    }\n",
       "\n",
       "    .dataframe thead th {\n",
       "        text-align: right;\n",
       "    }\n",
       "</style>\n",
       "<table border=\"1\" class=\"dataframe\">\n",
       "  <thead>\n",
       "    <tr style=\"text-align: right;\">\n",
       "      <th></th>\n",
       "      <th>chave</th>\n",
       "      <th>pgtos_realizados</th>\n",
       "    </tr>\n",
       "  </thead>\n",
       "  <tbody>\n",
       "    <tr>\n",
       "      <th>0</th>\n",
       "      <td>101280</td>\n",
       "      <td>262.023264</td>\n",
       "    </tr>\n",
       "    <tr>\n",
       "      <th>1</th>\n",
       "      <td>104432</td>\n",
       "      <td>888.106038</td>\n",
       "    </tr>\n",
       "    <tr>\n",
       "      <th>2</th>\n",
       "      <td>110108</td>\n",
       "      <td>1646.451649</td>\n",
       "    </tr>\n",
       "    <tr>\n",
       "      <th>3</th>\n",
       "      <td>115472</td>\n",
       "      <td>4322.064763</td>\n",
       "    </tr>\n",
       "    <tr>\n",
       "      <th>4</th>\n",
       "      <td>119280</td>\n",
       "      <td>203.791678</td>\n",
       "    </tr>\n",
       "    <tr>\n",
       "      <th>...</th>\n",
       "      <td>...</td>\n",
       "      <td>...</td>\n",
       "    </tr>\n",
       "    <tr>\n",
       "      <th>10796</th>\n",
       "      <td>97504833</td>\n",
       "      <td>652.732367</td>\n",
       "    </tr>\n",
       "    <tr>\n",
       "      <th>10797</th>\n",
       "      <td>97504969</td>\n",
       "      <td>1103.819712</td>\n",
       "    </tr>\n",
       "    <tr>\n",
       "      <th>10798</th>\n",
       "      <td>97513076</td>\n",
       "      <td>172.644171</td>\n",
       "    </tr>\n",
       "    <tr>\n",
       "      <th>10799</th>\n",
       "      <td>97513476</td>\n",
       "      <td>652.783509</td>\n",
       "    </tr>\n",
       "    <tr>\n",
       "      <th>10800</th>\n",
       "      <td>97513528</td>\n",
       "      <td>397.202888</td>\n",
       "    </tr>\n",
       "  </tbody>\n",
       "</table>\n",
       "<p>10801 rows × 2 columns</p>\n",
       "</div>"
      ],
      "text/plain": [
       "          chave  pgtos_realizados\n",
       "0        101280        262.023264\n",
       "1        104432        888.106038\n",
       "2        110108       1646.451649\n",
       "3        115472       4322.064763\n",
       "4        119280        203.791678\n",
       "...         ...               ...\n",
       "10796  97504833        652.732367\n",
       "10797  97504969       1103.819712\n",
       "10798  97513076        172.644171\n",
       "10799  97513476        652.783509\n",
       "10800  97513528        397.202888\n",
       "\n",
       "[10801 rows x 2 columns]"
      ]
     },
     "execution_count": 20,
     "metadata": {},
     "output_type": "execute_result"
    }
   ],
   "source": [
    "df_pgto"
   ]
  },
  {
   "cell_type": "code",
   "execution_count": 21,
   "id": "b367d631-021b-4de2-ac54-772aee36b5eb",
   "metadata": {},
   "outputs": [],
   "source": [
    "df_pgto = df_pgto.groupby(['chave']).pgtos_realizados.agg(['sum','count']).rename(columns={'sum':'soma_pgto','count':'qtde_pgto'}).reset_index()"
   ]
  },
  {
   "cell_type": "code",
   "execution_count": 22,
   "id": "279cc9fd-a603-4308-9d4b-bef8c62d20de",
   "metadata": {},
   "outputs": [
    {
     "data": {
      "text/html": [
       "<div>\n",
       "<style scoped>\n",
       "    .dataframe tbody tr th:only-of-type {\n",
       "        vertical-align: middle;\n",
       "    }\n",
       "\n",
       "    .dataframe tbody tr th {\n",
       "        vertical-align: top;\n",
       "    }\n",
       "\n",
       "    .dataframe thead th {\n",
       "        text-align: right;\n",
       "    }\n",
       "</style>\n",
       "<table border=\"1\" class=\"dataframe\">\n",
       "  <thead>\n",
       "    <tr style=\"text-align: right;\">\n",
       "      <th></th>\n",
       "      <th>chave</th>\n",
       "      <th>soma_pgto</th>\n",
       "      <th>qtde_pgto</th>\n",
       "    </tr>\n",
       "  </thead>\n",
       "  <tbody>\n",
       "    <tr>\n",
       "      <th>0</th>\n",
       "      <td>101280</td>\n",
       "      <td>262.023264</td>\n",
       "      <td>1</td>\n",
       "    </tr>\n",
       "    <tr>\n",
       "      <th>1</th>\n",
       "      <td>104432</td>\n",
       "      <td>888.106038</td>\n",
       "      <td>1</td>\n",
       "    </tr>\n",
       "    <tr>\n",
       "      <th>2</th>\n",
       "      <td>110108</td>\n",
       "      <td>1646.451649</td>\n",
       "      <td>1</td>\n",
       "    </tr>\n",
       "    <tr>\n",
       "      <th>3</th>\n",
       "      <td>115472</td>\n",
       "      <td>4322.064763</td>\n",
       "      <td>1</td>\n",
       "    </tr>\n",
       "    <tr>\n",
       "      <th>4</th>\n",
       "      <td>119280</td>\n",
       "      <td>203.791678</td>\n",
       "      <td>1</td>\n",
       "    </tr>\n",
       "    <tr>\n",
       "      <th>...</th>\n",
       "      <td>...</td>\n",
       "      <td>...</td>\n",
       "      <td>...</td>\n",
       "    </tr>\n",
       "    <tr>\n",
       "      <th>10629</th>\n",
       "      <td>97504833</td>\n",
       "      <td>1296.084718</td>\n",
       "      <td>2</td>\n",
       "    </tr>\n",
       "    <tr>\n",
       "      <th>10630</th>\n",
       "      <td>97504969</td>\n",
       "      <td>2134.377206</td>\n",
       "      <td>2</td>\n",
       "    </tr>\n",
       "    <tr>\n",
       "      <th>10631</th>\n",
       "      <td>97513076</td>\n",
       "      <td>302.693308</td>\n",
       "      <td>2</td>\n",
       "    </tr>\n",
       "    <tr>\n",
       "      <th>10632</th>\n",
       "      <td>97513476</td>\n",
       "      <td>1241.865283</td>\n",
       "      <td>2</td>\n",
       "    </tr>\n",
       "    <tr>\n",
       "      <th>10633</th>\n",
       "      <td>97513528</td>\n",
       "      <td>665.141735</td>\n",
       "      <td>2</td>\n",
       "    </tr>\n",
       "  </tbody>\n",
       "</table>\n",
       "<p>10634 rows × 3 columns</p>\n",
       "</div>"
      ],
      "text/plain": [
       "          chave    soma_pgto  qtde_pgto\n",
       "0        101280   262.023264          1\n",
       "1        104432   888.106038          1\n",
       "2        110108  1646.451649          1\n",
       "3        115472  4322.064763          1\n",
       "4        119280   203.791678          1\n",
       "...         ...          ...        ...\n",
       "10629  97504833  1296.084718          2\n",
       "10630  97504969  2134.377206          2\n",
       "10631  97513076   302.693308          2\n",
       "10632  97513476  1241.865283          2\n",
       "10633  97513528   665.141735          2\n",
       "\n",
       "[10634 rows x 3 columns]"
      ]
     },
     "execution_count": 22,
     "metadata": {},
     "output_type": "execute_result"
    }
   ],
   "source": [
    "df_pgto"
   ]
  },
  {
   "cell_type": "code",
   "execution_count": 23,
   "id": "232c8f81-3d06-49a5-9a5a-6ada5ad53190",
   "metadata": {},
   "outputs": [
    {
     "data": {
      "text/html": [
       "<div>\n",
       "<style scoped>\n",
       "    .dataframe tbody tr th:only-of-type {\n",
       "        vertical-align: middle;\n",
       "    }\n",
       "\n",
       "    .dataframe tbody tr th {\n",
       "        vertical-align: top;\n",
       "    }\n",
       "\n",
       "    .dataframe thead th {\n",
       "        text-align: right;\n",
       "    }\n",
       "</style>\n",
       "<table border=\"1\" class=\"dataframe\">\n",
       "  <thead>\n",
       "    <tr style=\"text-align: right;\">\n",
       "      <th></th>\n",
       "      <th>chave</th>\n",
       "      <th>soma_pgto</th>\n",
       "      <th>qtde_pgto</th>\n",
       "    </tr>\n",
       "  </thead>\n",
       "  <tbody>\n",
       "    <tr>\n",
       "      <th>86</th>\n",
       "      <td>1022677</td>\n",
       "      <td>1241.156049</td>\n",
       "      <td>2</td>\n",
       "    </tr>\n",
       "  </tbody>\n",
       "</table>\n",
       "</div>"
      ],
      "text/plain": [
       "      chave    soma_pgto  qtde_pgto\n",
       "86  1022677  1241.156049          2"
      ]
     },
     "execution_count": 23,
     "metadata": {},
     "output_type": "execute_result"
    }
   ],
   "source": [
    "df_pgto[df_pgto['chave']==1022677]"
   ]
  },
  {
   "cell_type": "code",
   "execution_count": 24,
   "id": "cde238a2-2f6b-464e-af6d-57b9e2d5bb44",
   "metadata": {},
   "outputs": [],
   "source": [
    "df_score = pd.read_excel(r'C:\\Users\\lucas\\OneDrive\\Documentos\\Case Mercantil\\Case e Teórico_Políticas\\Case e Teórico_Políticas\\Base_Case_1.xlsx',\n",
    "                   sheet_name='modelagem', skiprows= 1)"
   ]
  },
  {
   "cell_type": "code",
   "execution_count": 25,
   "id": "5dc3fabd-8f9f-4a2f-a251-0b9e01e98a95",
   "metadata": {},
   "outputs": [
    {
     "data": {
      "text/html": [
       "<div>\n",
       "<style scoped>\n",
       "    .dataframe tbody tr th:only-of-type {\n",
       "        vertical-align: middle;\n",
       "    }\n",
       "\n",
       "    .dataframe tbody tr th {\n",
       "        vertical-align: top;\n",
       "    }\n",
       "\n",
       "    .dataframe thead th {\n",
       "        text-align: right;\n",
       "    }\n",
       "</style>\n",
       "<table border=\"1\" class=\"dataframe\">\n",
       "  <thead>\n",
       "    <tr style=\"text-align: right;\">\n",
       "      <th></th>\n",
       "      <th>chave</th>\n",
       "      <th>Score de crédito</th>\n",
       "    </tr>\n",
       "  </thead>\n",
       "  <tbody>\n",
       "    <tr>\n",
       "      <th>0</th>\n",
       "      <td>101280</td>\n",
       "      <td>0.202772</td>\n",
       "    </tr>\n",
       "    <tr>\n",
       "      <th>1</th>\n",
       "      <td>104432</td>\n",
       "      <td>0.924722</td>\n",
       "    </tr>\n",
       "    <tr>\n",
       "      <th>2</th>\n",
       "      <td>110108</td>\n",
       "      <td>0.037231</td>\n",
       "    </tr>\n",
       "    <tr>\n",
       "      <th>3</th>\n",
       "      <td>115472</td>\n",
       "      <td>0.126221</td>\n",
       "    </tr>\n",
       "    <tr>\n",
       "      <th>4</th>\n",
       "      <td>119280</td>\n",
       "      <td>0.092397</td>\n",
       "    </tr>\n",
       "  </tbody>\n",
       "</table>\n",
       "</div>"
      ],
      "text/plain": [
       "    chave  Score de crédito\n",
       "0  101280          0.202772\n",
       "1  104432          0.924722\n",
       "2  110108          0.037231\n",
       "3  115472          0.126221\n",
       "4  119280          0.092397"
      ]
     },
     "execution_count": 25,
     "metadata": {},
     "output_type": "execute_result"
    }
   ],
   "source": [
    "df_score.head()"
   ]
  },
  {
   "cell_type": "code",
   "execution_count": 26,
   "id": "e210712c-01e2-4a9f-aac2-9ed4044e7bae",
   "metadata": {},
   "outputs": [
    {
     "data": {
      "text/plain": [
       "(10956, 2)"
      ]
     },
     "execution_count": 26,
     "metadata": {},
     "output_type": "execute_result"
    }
   ],
   "source": [
    "df_score.shape"
   ]
  },
  {
   "cell_type": "code",
   "execution_count": 27,
   "id": "c76fba77-e9c7-41ca-a816-6f8818013174",
   "metadata": {},
   "outputs": [],
   "source": [
    "df_score.rename(columns={'Score de crédito':'score'},inplace=True)"
   ]
  },
  {
   "cell_type": "code",
   "execution_count": 28,
   "id": "90d2b9f2-1d28-4c62-89b4-2ea9a6b36632",
   "metadata": {},
   "outputs": [
    {
     "data": {
      "text/html": [
       "<div>\n",
       "<style scoped>\n",
       "    .dataframe tbody tr th:only-of-type {\n",
       "        vertical-align: middle;\n",
       "    }\n",
       "\n",
       "    .dataframe tbody tr th {\n",
       "        vertical-align: top;\n",
       "    }\n",
       "\n",
       "    .dataframe thead th {\n",
       "        text-align: right;\n",
       "    }\n",
       "</style>\n",
       "<table border=\"1\" class=\"dataframe\">\n",
       "  <thead>\n",
       "    <tr style=\"text-align: right;\">\n",
       "      <th></th>\n",
       "      <th>chave</th>\n",
       "      <th>score</th>\n",
       "    </tr>\n",
       "  </thead>\n",
       "  <tbody>\n",
       "    <tr>\n",
       "      <th>0</th>\n",
       "      <td>101280</td>\n",
       "      <td>0.202772</td>\n",
       "    </tr>\n",
       "    <tr>\n",
       "      <th>1</th>\n",
       "      <td>104432</td>\n",
       "      <td>0.924722</td>\n",
       "    </tr>\n",
       "    <tr>\n",
       "      <th>2</th>\n",
       "      <td>110108</td>\n",
       "      <td>0.037231</td>\n",
       "    </tr>\n",
       "    <tr>\n",
       "      <th>3</th>\n",
       "      <td>115472</td>\n",
       "      <td>0.126221</td>\n",
       "    </tr>\n",
       "    <tr>\n",
       "      <th>4</th>\n",
       "      <td>119280</td>\n",
       "      <td>0.092397</td>\n",
       "    </tr>\n",
       "  </tbody>\n",
       "</table>\n",
       "</div>"
      ],
      "text/plain": [
       "    chave     score\n",
       "0  101280  0.202772\n",
       "1  104432  0.924722\n",
       "2  110108  0.037231\n",
       "3  115472  0.126221\n",
       "4  119280  0.092397"
      ]
     },
     "execution_count": 28,
     "metadata": {},
     "output_type": "execute_result"
    }
   ],
   "source": [
    "df_score.head()"
   ]
  },
  {
   "cell_type": "code",
   "execution_count": 29,
   "id": "311b5158-51db-4059-9e4c-8bab657f769a",
   "metadata": {},
   "outputs": [],
   "source": [
    "df_score = df_score.groupby(['chave']).score.agg(['max']).rename(columns={'max':'max_score'}).reset_index()"
   ]
  },
  {
   "cell_type": "code",
   "execution_count": 30,
   "id": "de766a62-fa30-4dca-890a-083e3838dc66",
   "metadata": {},
   "outputs": [],
   "source": [
    "df_score['faixa_score'] = df_score['max_score'].apply(lambda x: np.where(x < 0.1,'0 a 10',\n",
    "                                                            np.where(x < 0.2,'10 a 20',\n",
    "                                                            np.where(x < 0.3,'20 a 30',\n",
    "                                                            np.where(x < 0.4,'30 a 40',\n",
    "                                                            np.where(x < 0.5,'40 a 50',\n",
    "                                                            np.where(x < 0.6,'50 a 60',\n",
    "                                                            np.where(x < 0.7,'60 a 70',\n",
    "                                                            np.where(x < 0.8,'70 a 80',\n",
    "                                                            np.where(x < 0.9,'80 a 90',\n",
    "                                                            np.where(x < 1,'90 a 100','sem_classificacao')))))))))))"
   ]
  },
  {
   "cell_type": "code",
   "execution_count": 31,
   "id": "f09e7e3f-c618-4a33-9112-62d55555ed3c",
   "metadata": {},
   "outputs": [
    {
     "data": {
      "text/html": [
       "<div>\n",
       "<style scoped>\n",
       "    .dataframe tbody tr th:only-of-type {\n",
       "        vertical-align: middle;\n",
       "    }\n",
       "\n",
       "    .dataframe tbody tr th {\n",
       "        vertical-align: top;\n",
       "    }\n",
       "\n",
       "    .dataframe thead th {\n",
       "        text-align: right;\n",
       "    }\n",
       "</style>\n",
       "<table border=\"1\" class=\"dataframe\">\n",
       "  <thead>\n",
       "    <tr style=\"text-align: right;\">\n",
       "      <th></th>\n",
       "      <th>chave</th>\n",
       "      <th>max_score</th>\n",
       "      <th>faixa_score</th>\n",
       "    </tr>\n",
       "  </thead>\n",
       "  <tbody>\n",
       "    <tr>\n",
       "      <th>0</th>\n",
       "      <td>101280</td>\n",
       "      <td>0.202772</td>\n",
       "      <td>20 a 30</td>\n",
       "    </tr>\n",
       "    <tr>\n",
       "      <th>1</th>\n",
       "      <td>104432</td>\n",
       "      <td>0.924722</td>\n",
       "      <td>90 a 100</td>\n",
       "    </tr>\n",
       "    <tr>\n",
       "      <th>2</th>\n",
       "      <td>110108</td>\n",
       "      <td>0.037231</td>\n",
       "      <td>0 a 10</td>\n",
       "    </tr>\n",
       "    <tr>\n",
       "      <th>3</th>\n",
       "      <td>115472</td>\n",
       "      <td>0.126221</td>\n",
       "      <td>10 a 20</td>\n",
       "    </tr>\n",
       "    <tr>\n",
       "      <th>4</th>\n",
       "      <td>119280</td>\n",
       "      <td>0.092397</td>\n",
       "      <td>0 a 10</td>\n",
       "    </tr>\n",
       "    <tr>\n",
       "      <th>...</th>\n",
       "      <td>...</td>\n",
       "      <td>...</td>\n",
       "      <td>...</td>\n",
       "    </tr>\n",
       "    <tr>\n",
       "      <th>10828</th>\n",
       "      <td>97504833</td>\n",
       "      <td>0.733188</td>\n",
       "      <td>70 a 80</td>\n",
       "    </tr>\n",
       "    <tr>\n",
       "      <th>10829</th>\n",
       "      <td>97504969</td>\n",
       "      <td>0.556913</td>\n",
       "      <td>50 a 60</td>\n",
       "    </tr>\n",
       "    <tr>\n",
       "      <th>10830</th>\n",
       "      <td>97513076</td>\n",
       "      <td>0.286916</td>\n",
       "      <td>20 a 30</td>\n",
       "    </tr>\n",
       "    <tr>\n",
       "      <th>10831</th>\n",
       "      <td>97513476</td>\n",
       "      <td>0.341155</td>\n",
       "      <td>30 a 40</td>\n",
       "    </tr>\n",
       "    <tr>\n",
       "      <th>10832</th>\n",
       "      <td>97513528</td>\n",
       "      <td>0.018767</td>\n",
       "      <td>0 a 10</td>\n",
       "    </tr>\n",
       "  </tbody>\n",
       "</table>\n",
       "<p>10833 rows × 3 columns</p>\n",
       "</div>"
      ],
      "text/plain": [
       "          chave  max_score faixa_score\n",
       "0        101280   0.202772     20 a 30\n",
       "1        104432   0.924722    90 a 100\n",
       "2        110108   0.037231      0 a 10\n",
       "3        115472   0.126221     10 a 20\n",
       "4        119280   0.092397      0 a 10\n",
       "...         ...        ...         ...\n",
       "10828  97504833   0.733188     70 a 80\n",
       "10829  97504969   0.556913     50 a 60\n",
       "10830  97513076   0.286916     20 a 30\n",
       "10831  97513476   0.341155     30 a 40\n",
       "10832  97513528   0.018767      0 a 10\n",
       "\n",
       "[10833 rows x 3 columns]"
      ]
     },
     "execution_count": 31,
     "metadata": {},
     "output_type": "execute_result"
    }
   ],
   "source": [
    "df_score"
   ]
  },
  {
   "cell_type": "code",
   "execution_count": 32,
   "id": "5c66c3f3-3e54-469c-8cad-8b0a7973ecf6",
   "metadata": {},
   "outputs": [
    {
     "data": {
      "text/html": [
       "<div>\n",
       "<style scoped>\n",
       "    .dataframe tbody tr th:only-of-type {\n",
       "        vertical-align: middle;\n",
       "    }\n",
       "\n",
       "    .dataframe tbody tr th {\n",
       "        vertical-align: top;\n",
       "    }\n",
       "\n",
       "    .dataframe thead th {\n",
       "        text-align: right;\n",
       "    }\n",
       "</style>\n",
       "<table border=\"1\" class=\"dataframe\">\n",
       "  <thead>\n",
       "    <tr style=\"text-align: right;\">\n",
       "      <th></th>\n",
       "      <th>chave</th>\n",
       "      <th>max_score</th>\n",
       "      <th>faixa_score</th>\n",
       "    </tr>\n",
       "  </thead>\n",
       "  <tbody>\n",
       "    <tr>\n",
       "      <th>87</th>\n",
       "      <td>1022677</td>\n",
       "      <td>0.642137</td>\n",
       "      <td>60 a 70</td>\n",
       "    </tr>\n",
       "  </tbody>\n",
       "</table>\n",
       "</div>"
      ],
      "text/plain": [
       "      chave  max_score faixa_score\n",
       "87  1022677   0.642137     60 a 70"
      ]
     },
     "execution_count": 32,
     "metadata": {},
     "output_type": "execute_result"
    }
   ],
   "source": [
    "df_score[df_score['chave']==1022677]"
   ]
  },
  {
   "cell_type": "code",
   "execution_count": 33,
   "id": "ada9cf91-a500-44e4-bf37-ba6f7f56fded",
   "metadata": {},
   "outputs": [
    {
     "name": "stdout",
     "output_type": "stream",
     "text": [
      "Tamanho da base de contratos:(11014, 3)\n",
      "Tamanho da base de pagamentos:(10634, 3)\n",
      "Tamanho da base de score:(10833, 3)\n"
     ]
    }
   ],
   "source": [
    "print('Tamanho da base de contratos:'+str(df_ctr.shape))\n",
    "print('Tamanho da base de pagamentos:'+str(df_pgto.shape))\n",
    "print('Tamanho da base de score:'+str(df_score.shape))"
   ]
  },
  {
   "cell_type": "code",
   "execution_count": 34,
   "id": "fed01a3f-d39e-4181-888f-b0c5c5e8944f",
   "metadata": {},
   "outputs": [],
   "source": [
    "df_1 = pd.merge(df_ctr,df_pgto,how='left',on='chave')"
   ]
  },
  {
   "cell_type": "code",
   "execution_count": 35,
   "id": "594fa845-a8d8-4dbe-8440-c3dff4d4b835",
   "metadata": {},
   "outputs": [],
   "source": [
    "df = pd.merge(df_1,df_score,how='left',on='chave')"
   ]
  },
  {
   "cell_type": "code",
   "execution_count": 36,
   "id": "2d18cb93-bf93-4045-ab84-25fdce810184",
   "metadata": {},
   "outputs": [
    {
     "data": {
      "text/html": [
       "<div>\n",
       "<style scoped>\n",
       "    .dataframe tbody tr th:only-of-type {\n",
       "        vertical-align: middle;\n",
       "    }\n",
       "\n",
       "    .dataframe tbody tr th {\n",
       "        vertical-align: top;\n",
       "    }\n",
       "\n",
       "    .dataframe thead th {\n",
       "        text-align: right;\n",
       "    }\n",
       "</style>\n",
       "<table border=\"1\" class=\"dataframe\">\n",
       "  <thead>\n",
       "    <tr style=\"text-align: right;\">\n",
       "      <th></th>\n",
       "      <th>chave</th>\n",
       "      <th>soma_ctr</th>\n",
       "      <th>qtde_ctr</th>\n",
       "      <th>soma_pgto</th>\n",
       "      <th>qtde_pgto</th>\n",
       "      <th>max_score</th>\n",
       "      <th>faixa_score</th>\n",
       "    </tr>\n",
       "  </thead>\n",
       "  <tbody>\n",
       "    <tr>\n",
       "      <th>0</th>\n",
       "      <td>101280</td>\n",
       "      <td>400.069068</td>\n",
       "      <td>1</td>\n",
       "      <td>262.023264</td>\n",
       "      <td>1.0</td>\n",
       "      <td>0.202772</td>\n",
       "      <td>20 a 30</td>\n",
       "    </tr>\n",
       "    <tr>\n",
       "      <th>1</th>\n",
       "      <td>104432</td>\n",
       "      <td>1861.468141</td>\n",
       "      <td>1</td>\n",
       "      <td>888.106038</td>\n",
       "      <td>1.0</td>\n",
       "      <td>0.924722</td>\n",
       "      <td>90 a 100</td>\n",
       "    </tr>\n",
       "    <tr>\n",
       "      <th>2</th>\n",
       "      <td>110108</td>\n",
       "      <td>1646.451649</td>\n",
       "      <td>1</td>\n",
       "      <td>1646.451649</td>\n",
       "      <td>1.0</td>\n",
       "      <td>0.037231</td>\n",
       "      <td>0 a 10</td>\n",
       "    </tr>\n",
       "    <tr>\n",
       "      <th>3</th>\n",
       "      <td>115472</td>\n",
       "      <td>4322.064763</td>\n",
       "      <td>1</td>\n",
       "      <td>4322.064763</td>\n",
       "      <td>1.0</td>\n",
       "      <td>0.126221</td>\n",
       "      <td>10 a 20</td>\n",
       "    </tr>\n",
       "    <tr>\n",
       "      <th>4</th>\n",
       "      <td>119280</td>\n",
       "      <td>203.791678</td>\n",
       "      <td>1</td>\n",
       "      <td>203.791678</td>\n",
       "      <td>1.0</td>\n",
       "      <td>0.092397</td>\n",
       "      <td>0 a 10</td>\n",
       "    </tr>\n",
       "  </tbody>\n",
       "</table>\n",
       "</div>"
      ],
      "text/plain": [
       "    chave     soma_ctr  qtde_ctr    soma_pgto  qtde_pgto  max_score  \\\n",
       "0  101280   400.069068         1   262.023264        1.0   0.202772   \n",
       "1  104432  1861.468141         1   888.106038        1.0   0.924722   \n",
       "2  110108  1646.451649         1  1646.451649        1.0   0.037231   \n",
       "3  115472  4322.064763         1  4322.064763        1.0   0.126221   \n",
       "4  119280   203.791678         1   203.791678        1.0   0.092397   \n",
       "\n",
       "  faixa_score  \n",
       "0     20 a 30  \n",
       "1    90 a 100  \n",
       "2      0 a 10  \n",
       "3     10 a 20  \n",
       "4      0 a 10  "
      ]
     },
     "execution_count": 36,
     "metadata": {},
     "output_type": "execute_result"
    }
   ],
   "source": [
    "df.head()"
   ]
  },
  {
   "cell_type": "code",
   "execution_count": 37,
   "id": "85d4a340-7ce0-4503-b87a-f4251d4581b5",
   "metadata": {},
   "outputs": [],
   "source": [
    "df['soma_ctr'] = df['soma_ctr'].fillna(0)\n",
    "df['soma_pgto'] = df['soma_pgto'].fillna(0)\n",
    "df['max_score'] = df['max_score'].fillna('sem_score')\n",
    "df['faixa_score'] = df['faixa_score'].fillna('sem_score')"
   ]
  },
  {
   "cell_type": "code",
   "execution_count": 38,
   "id": "dd35f7f9-0c36-41a3-aa28-685493b49acb",
   "metadata": {},
   "outputs": [],
   "source": [
    "df['saldo'] = df['soma_pgto']-df['soma_ctr']"
   ]
  },
  {
   "cell_type": "code",
   "execution_count": 39,
   "id": "61de2690-42a8-4b86-a7c6-043729c0b895",
   "metadata": {},
   "outputs": [],
   "source": [
    "df.to_excel(r'C:\\Users\\lucas\\Downloads\\df.xlsx',index=False)"
   ]
  },
  {
   "cell_type": "code",
   "execution_count": 40,
   "id": "0cda700a-52f1-4c60-9bac-081fcf8fb818",
   "metadata": {},
   "outputs": [
    {
     "data": {
      "text/html": [
       "<div>\n",
       "<style scoped>\n",
       "    .dataframe tbody tr th:only-of-type {\n",
       "        vertical-align: middle;\n",
       "    }\n",
       "\n",
       "    .dataframe tbody tr th {\n",
       "        vertical-align: top;\n",
       "    }\n",
       "\n",
       "    .dataframe thead th {\n",
       "        text-align: right;\n",
       "    }\n",
       "</style>\n",
       "<table border=\"1\" class=\"dataframe\">\n",
       "  <thead>\n",
       "    <tr style=\"text-align: right;\">\n",
       "      <th></th>\n",
       "      <th>chave</th>\n",
       "      <th>soma_ctr</th>\n",
       "      <th>qtde_ctr</th>\n",
       "      <th>soma_pgto</th>\n",
       "      <th>qtde_pgto</th>\n",
       "      <th>max_score</th>\n",
       "      <th>faixa_score</th>\n",
       "      <th>saldo</th>\n",
       "    </tr>\n",
       "  </thead>\n",
       "  <tbody>\n",
       "    <tr>\n",
       "      <th>0</th>\n",
       "      <td>101280</td>\n",
       "      <td>400.069068</td>\n",
       "      <td>1</td>\n",
       "      <td>262.023264</td>\n",
       "      <td>1.0</td>\n",
       "      <td>0.202772</td>\n",
       "      <td>20 a 30</td>\n",
       "      <td>-138.045804</td>\n",
       "    </tr>\n",
       "    <tr>\n",
       "      <th>1</th>\n",
       "      <td>104432</td>\n",
       "      <td>1861.468141</td>\n",
       "      <td>1</td>\n",
       "      <td>888.106038</td>\n",
       "      <td>1.0</td>\n",
       "      <td>0.924722</td>\n",
       "      <td>90 a 100</td>\n",
       "      <td>-973.362103</td>\n",
       "    </tr>\n",
       "    <tr>\n",
       "      <th>2</th>\n",
       "      <td>110108</td>\n",
       "      <td>1646.451649</td>\n",
       "      <td>1</td>\n",
       "      <td>1646.451649</td>\n",
       "      <td>1.0</td>\n",
       "      <td>0.037231</td>\n",
       "      <td>0 a 10</td>\n",
       "      <td>0.000000</td>\n",
       "    </tr>\n",
       "    <tr>\n",
       "      <th>3</th>\n",
       "      <td>115472</td>\n",
       "      <td>4322.064763</td>\n",
       "      <td>1</td>\n",
       "      <td>4322.064763</td>\n",
       "      <td>1.0</td>\n",
       "      <td>0.126221</td>\n",
       "      <td>10 a 20</td>\n",
       "      <td>0.000000</td>\n",
       "    </tr>\n",
       "    <tr>\n",
       "      <th>4</th>\n",
       "      <td>119280</td>\n",
       "      <td>203.791678</td>\n",
       "      <td>1</td>\n",
       "      <td>203.791678</td>\n",
       "      <td>1.0</td>\n",
       "      <td>0.092397</td>\n",
       "      <td>0 a 10</td>\n",
       "      <td>0.000000</td>\n",
       "    </tr>\n",
       "    <tr>\n",
       "      <th>...</th>\n",
       "      <td>...</td>\n",
       "      <td>...</td>\n",
       "      <td>...</td>\n",
       "      <td>...</td>\n",
       "      <td>...</td>\n",
       "      <td>...</td>\n",
       "      <td>...</td>\n",
       "      <td>...</td>\n",
       "    </tr>\n",
       "    <tr>\n",
       "      <th>11009</th>\n",
       "      <td>97504833</td>\n",
       "      <td>643.352351</td>\n",
       "      <td>1</td>\n",
       "      <td>1296.084718</td>\n",
       "      <td>2.0</td>\n",
       "      <td>0.733188</td>\n",
       "      <td>70 a 80</td>\n",
       "      <td>652.732367</td>\n",
       "    </tr>\n",
       "    <tr>\n",
       "      <th>11010</th>\n",
       "      <td>97504969</td>\n",
       "      <td>1030.557494</td>\n",
       "      <td>1</td>\n",
       "      <td>2134.377206</td>\n",
       "      <td>2.0</td>\n",
       "      <td>0.556913</td>\n",
       "      <td>50 a 60</td>\n",
       "      <td>1103.819712</td>\n",
       "    </tr>\n",
       "    <tr>\n",
       "      <th>11011</th>\n",
       "      <td>97513076</td>\n",
       "      <td>130.049136</td>\n",
       "      <td>1</td>\n",
       "      <td>302.693308</td>\n",
       "      <td>2.0</td>\n",
       "      <td>0.286916</td>\n",
       "      <td>20 a 30</td>\n",
       "      <td>172.644171</td>\n",
       "    </tr>\n",
       "    <tr>\n",
       "      <th>11012</th>\n",
       "      <td>97513476</td>\n",
       "      <td>589.081774</td>\n",
       "      <td>1</td>\n",
       "      <td>1241.865283</td>\n",
       "      <td>2.0</td>\n",
       "      <td>0.341155</td>\n",
       "      <td>30 a 40</td>\n",
       "      <td>652.783509</td>\n",
       "    </tr>\n",
       "    <tr>\n",
       "      <th>11013</th>\n",
       "      <td>97513528</td>\n",
       "      <td>267.938847</td>\n",
       "      <td>1</td>\n",
       "      <td>665.141735</td>\n",
       "      <td>2.0</td>\n",
       "      <td>0.018767</td>\n",
       "      <td>0 a 10</td>\n",
       "      <td>397.202888</td>\n",
       "    </tr>\n",
       "  </tbody>\n",
       "</table>\n",
       "<p>11014 rows × 8 columns</p>\n",
       "</div>"
      ],
      "text/plain": [
       "          chave     soma_ctr  qtde_ctr    soma_pgto  qtde_pgto max_score  \\\n",
       "0        101280   400.069068         1   262.023264        1.0  0.202772   \n",
       "1        104432  1861.468141         1   888.106038        1.0  0.924722   \n",
       "2        110108  1646.451649         1  1646.451649        1.0  0.037231   \n",
       "3        115472  4322.064763         1  4322.064763        1.0  0.126221   \n",
       "4        119280   203.791678         1   203.791678        1.0  0.092397   \n",
       "...         ...          ...       ...          ...        ...       ...   \n",
       "11009  97504833   643.352351         1  1296.084718        2.0  0.733188   \n",
       "11010  97504969  1030.557494         1  2134.377206        2.0  0.556913   \n",
       "11011  97513076   130.049136         1   302.693308        2.0  0.286916   \n",
       "11012  97513476   589.081774         1  1241.865283        2.0  0.341155   \n",
       "11013  97513528   267.938847         1   665.141735        2.0  0.018767   \n",
       "\n",
       "      faixa_score        saldo  \n",
       "0         20 a 30  -138.045804  \n",
       "1        90 a 100  -973.362103  \n",
       "2          0 a 10     0.000000  \n",
       "3         10 a 20     0.000000  \n",
       "4          0 a 10     0.000000  \n",
       "...           ...          ...  \n",
       "11009     70 a 80   652.732367  \n",
       "11010     50 a 60  1103.819712  \n",
       "11011     20 a 30   172.644171  \n",
       "11012     30 a 40   652.783509  \n",
       "11013      0 a 10   397.202888  \n",
       "\n",
       "[11014 rows x 8 columns]"
      ]
     },
     "execution_count": 40,
     "metadata": {},
     "output_type": "execute_result"
    }
   ],
   "source": [
    "df"
   ]
  },
  {
   "cell_type": "code",
   "execution_count": 41,
   "id": "f7f6c6a8-1cc3-42ff-a0d3-5ede7d2d4602",
   "metadata": {},
   "outputs": [],
   "source": [
    "df1 = df.groupby('faixa_score').saldo.agg(['mean','count']).reset_index()"
   ]
  },
  {
   "cell_type": "code",
   "execution_count": 42,
   "id": "b3ac6a0e-13b5-47fc-a44a-0a905d6afabb",
   "metadata": {},
   "outputs": [],
   "source": [
    "df1['perda/ganho'] = df1['mean']*df1['count']"
   ]
  },
  {
   "cell_type": "code",
   "execution_count": 43,
   "id": "c7b0830d-c1db-42f7-841d-45c9d9e1890a",
   "metadata": {},
   "outputs": [
    {
     "data": {
      "text/plain": [
       "-1474983.3645904209"
      ]
     },
     "execution_count": 43,
     "metadata": {},
     "output_type": "execute_result"
    }
   ],
   "source": [
    "df1['perda/ganho'].sum()"
   ]
  },
  {
   "cell_type": "code",
   "execution_count": 44,
   "id": "d02ea715-fccc-4ffa-a52c-d5c0561a713b",
   "metadata": {
    "tags": []
   },
   "outputs": [],
   "source": [
    "data = df1[['faixa_score','count']]"
   ]
  },
  {
   "cell_type": "code",
   "execution_count": 45,
   "id": "8906fb26-b800-4ede-b99c-15cd161a596c",
   "metadata": {},
   "outputs": [
    {
     "data": {
      "image/png": "[encoded data removed]",
      "text/plain": [
       "<Figure size 864x576 with 1 Axes>"
      ]
     },
     "metadata": {
      "needs_background": "light"
     },
     "output_type": "display_data"
    }
   ],
   "source": [
    "fig, ax = plt.subplots(figsize=(12, 8))\n",
    "\n",
    "x = np.arange(len(data[\"faixa_score\"]))\n",
    "\n",
    "# Plotando o gráfico da 1ª Unidade\n",
    "grafico_1_unidade = ax.bar(x = x, height=\"count\",  data=data) \n",
    "ax.set_title('Distribuição dos clientes por faixa de score', fontsize=16, pad=20)\n",
    "ax.set_xlabel('Faixa de Score', fontsize=14, labelpad=10)\n",
    "ax.set_ylabel('Qtde Clientes', fontsize=14, labelpad=10)\n",
    "ax.set_xticks(x)\n",
    "ax.set_xticklabels(data[\"faixa_score\"])\n",
    "\n",
    "# colocando o rótulo nas barras\n",
    "ax.bar_label(grafico_1_unidade, fmt=\"%.f\", size=10, label_type=\"edge\")\n",
    "plt.savefig('distribuicao.png');"
   ]
  },
  {
   "cell_type": "code",
   "execution_count": 46,
   "id": "cd2a20c7-6db0-40e5-a55b-af78088a4b9e",
   "metadata": {},
   "outputs": [],
   "source": [
    "df_cobranca = df[df['saldo']<0]"
   ]
  },
  {
   "cell_type": "code",
   "execution_count": 47,
   "id": "2f794d65-7378-468e-99d2-47904bce1501",
   "metadata": {},
   "outputs": [
    {
     "data": {
      "text/html": [
       "<div>\n",
       "<style scoped>\n",
       "    .dataframe tbody tr th:only-of-type {\n",
       "        vertical-align: middle;\n",
       "    }\n",
       "\n",
       "    .dataframe tbody tr th {\n",
       "        vertical-align: top;\n",
       "    }\n",
       "\n",
       "    .dataframe thead th {\n",
       "        text-align: right;\n",
       "    }\n",
       "</style>\n",
       "<table border=\"1\" class=\"dataframe\">\n",
       "  <thead>\n",
       "    <tr style=\"text-align: right;\">\n",
       "      <th></th>\n",
       "      <th>chave</th>\n",
       "      <th>soma_ctr</th>\n",
       "      <th>qtde_ctr</th>\n",
       "      <th>soma_pgto</th>\n",
       "      <th>qtde_pgto</th>\n",
       "      <th>max_score</th>\n",
       "      <th>faixa_score</th>\n",
       "      <th>saldo</th>\n",
       "    </tr>\n",
       "  </thead>\n",
       "  <tbody>\n",
       "    <tr>\n",
       "      <th>0</th>\n",
       "      <td>101280</td>\n",
       "      <td>400.069068</td>\n",
       "      <td>1</td>\n",
       "      <td>262.023264</td>\n",
       "      <td>1.0</td>\n",
       "      <td>0.202772</td>\n",
       "      <td>20 a 30</td>\n",
       "      <td>-138.045804</td>\n",
       "    </tr>\n",
       "    <tr>\n",
       "      <th>1</th>\n",
       "      <td>104432</td>\n",
       "      <td>1861.468141</td>\n",
       "      <td>1</td>\n",
       "      <td>888.106038</td>\n",
       "      <td>1.0</td>\n",
       "      <td>0.924722</td>\n",
       "      <td>90 a 100</td>\n",
       "      <td>-973.362103</td>\n",
       "    </tr>\n",
       "    <tr>\n",
       "      <th>7</th>\n",
       "      <td>156862</td>\n",
       "      <td>1254.316924</td>\n",
       "      <td>1</td>\n",
       "      <td>1153.500040</td>\n",
       "      <td>1.0</td>\n",
       "      <td>0.457903</td>\n",
       "      <td>40 a 50</td>\n",
       "      <td>-100.816884</td>\n",
       "    </tr>\n",
       "    <tr>\n",
       "      <th>8</th>\n",
       "      <td>159125</td>\n",
       "      <td>2636.310473</td>\n",
       "      <td>1</td>\n",
       "      <td>2225.488310</td>\n",
       "      <td>1.0</td>\n",
       "      <td>0.199191</td>\n",
       "      <td>10 a 20</td>\n",
       "      <td>-410.822163</td>\n",
       "    </tr>\n",
       "    <tr>\n",
       "      <th>13</th>\n",
       "      <td>209099</td>\n",
       "      <td>1543.229343</td>\n",
       "      <td>1</td>\n",
       "      <td>0.000000</td>\n",
       "      <td>NaN</td>\n",
       "      <td>sem_score</td>\n",
       "      <td>sem_score</td>\n",
       "      <td>-1543.229343</td>\n",
       "    </tr>\n",
       "    <tr>\n",
       "      <th>...</th>\n",
       "      <td>...</td>\n",
       "      <td>...</td>\n",
       "      <td>...</td>\n",
       "      <td>...</td>\n",
       "      <td>...</td>\n",
       "      <td>...</td>\n",
       "      <td>...</td>\n",
       "      <td>...</td>\n",
       "    </tr>\n",
       "    <tr>\n",
       "      <th>10964</th>\n",
       "      <td>87776267</td>\n",
       "      <td>924.385126</td>\n",
       "      <td>1</td>\n",
       "      <td>784.999385</td>\n",
       "      <td>1.0</td>\n",
       "      <td>0.093264</td>\n",
       "      <td>0 a 10</td>\n",
       "      <td>-139.385741</td>\n",
       "    </tr>\n",
       "    <tr>\n",
       "      <th>10979</th>\n",
       "      <td>92949471</td>\n",
       "      <td>846.173845</td>\n",
       "      <td>1</td>\n",
       "      <td>743.164032</td>\n",
       "      <td>2.0</td>\n",
       "      <td>0.473024</td>\n",
       "      <td>40 a 50</td>\n",
       "      <td>-103.009813</td>\n",
       "    </tr>\n",
       "    <tr>\n",
       "      <th>10980</th>\n",
       "      <td>93426955</td>\n",
       "      <td>21.017623</td>\n",
       "      <td>1</td>\n",
       "      <td>1.117395</td>\n",
       "      <td>2.0</td>\n",
       "      <td>0.283475</td>\n",
       "      <td>20 a 30</td>\n",
       "      <td>-19.900228</td>\n",
       "    </tr>\n",
       "    <tr>\n",
       "      <th>10988</th>\n",
       "      <td>94513294</td>\n",
       "      <td>377.720930</td>\n",
       "      <td>1</td>\n",
       "      <td>91.314264</td>\n",
       "      <td>2.0</td>\n",
       "      <td>0.999531</td>\n",
       "      <td>90 a 100</td>\n",
       "      <td>-286.406666</td>\n",
       "    </tr>\n",
       "    <tr>\n",
       "      <th>11004</th>\n",
       "      <td>97493809</td>\n",
       "      <td>1253.781433</td>\n",
       "      <td>1</td>\n",
       "      <td>461.896999</td>\n",
       "      <td>2.0</td>\n",
       "      <td>0.751888</td>\n",
       "      <td>70 a 80</td>\n",
       "      <td>-791.884434</td>\n",
       "    </tr>\n",
       "  </tbody>\n",
       "</table>\n",
       "<p>3878 rows × 8 columns</p>\n",
       "</div>"
      ],
      "text/plain": [
       "          chave     soma_ctr  qtde_ctr    soma_pgto  qtde_pgto  max_score  \\\n",
       "0        101280   400.069068         1   262.023264        1.0   0.202772   \n",
       "1        104432  1861.468141         1   888.106038        1.0   0.924722   \n",
       "7        156862  1254.316924         1  1153.500040        1.0   0.457903   \n",
       "8        159125  2636.310473         1  2225.488310        1.0   0.199191   \n",
       "13       209099  1543.229343         1     0.000000        NaN  sem_score   \n",
       "...         ...          ...       ...          ...        ...        ...   \n",
       "10964  87776267   924.385126         1   784.999385        1.0   0.093264   \n",
       "10979  92949471   846.173845         1   743.164032        2.0   0.473024   \n",
       "10980  93426955    21.017623         1     1.117395        2.0   0.283475   \n",
       "10988  94513294   377.720930         1    91.314264        2.0   0.999531   \n",
       "11004  97493809  1253.781433         1   461.896999        2.0   0.751888   \n",
       "\n",
       "      faixa_score        saldo  \n",
       "0         20 a 30  -138.045804  \n",
       "1        90 a 100  -973.362103  \n",
       "7         40 a 50  -100.816884  \n",
       "8         10 a 20  -410.822163  \n",
       "13      sem_score -1543.229343  \n",
       "...           ...          ...  \n",
       "10964      0 a 10  -139.385741  \n",
       "10979     40 a 50  -103.009813  \n",
       "10980     20 a 30   -19.900228  \n",
       "10988    90 a 100  -286.406666  \n",
       "11004     70 a 80  -791.884434  \n",
       "\n",
       "[3878 rows x 8 columns]"
      ]
     },
     "execution_count": 47,
     "metadata": {},
     "output_type": "execute_result"
    }
   ],
   "source": [
    "df_cobranca[df['saldo']<0]"
   ]
  },
  {
   "cell_type": "code",
   "execution_count": 48,
   "id": "16af05af-bd97-4564-afdf-c4133309417d",
   "metadata": {},
   "outputs": [],
   "source": [
    "df_cobranca.to_excel(r'C:\\Users\\lucas\\Downloads\\teste.xlsx', index=False)"
   ]
  },
  {
   "cell_type": "code",
   "execution_count": 49,
   "id": "362e1af6-01b9-4675-a776-95a63f6f809d",
   "metadata": {},
   "outputs": [],
   "source": [
    "df2 = df_cobranca.groupby('faixa_score').saldo.agg(['mean','count']).reset_index()"
   ]
  },
  {
   "cell_type": "code",
   "execution_count": 50,
   "id": "0737f525-022b-4778-bc92-735466b37aa2",
   "metadata": {},
   "outputs": [],
   "source": [
    "df2['potencial_perda'] = df2['mean']*df2['count']"
   ]
  },
  {
   "cell_type": "code",
   "execution_count": 51,
   "id": "f09d5894-861d-4021-963e-cfcd324dd247",
   "metadata": {},
   "outputs": [
    {
     "data": {
      "text/plain": [
       "-1527617.7080979696"
      ]
     },
     "execution_count": 51,
     "metadata": {},
     "output_type": "execute_result"
    }
   ],
   "source": [
    "df2['potencial_perda'].sum()"
   ]
  },
  {
   "cell_type": "code",
   "execution_count": 52,
   "id": "982d5bf0-5c95-4dc1-aa7b-e2a168a67f4e",
   "metadata": {},
   "outputs": [],
   "source": [
    "data = df2[['faixa_score','count']]"
   ]
  },
  {
   "cell_type": "code",
   "execution_count": 53,
   "id": "b63754c4-5e81-4213-9bed-5bacaf4279c7",
   "metadata": {},
   "outputs": [
    {
     "data": {
      "image/png": "[encoded data removed]",
      "text/plain": [
       "<Figure size 864x576 with 1 Axes>"
      ]
     },
     "metadata": {
      "needs_background": "light"
     },
     "output_type": "display_data"
    }
   ],
   "source": [
    "fig, ax = plt.subplots(figsize=(12, 8))\n",
    "\n",
    "x = np.arange(len(data[\"faixa_score\"]))\n",
    "\n",
    "# Plotando o gráfico da 1ª Unidade\n",
    "grafico_1_unidade = ax.bar(x = x, height=\"count\",  data=data) \n",
    "ax.set_title('Distribuição dos clientes com saldo em aberto por faixa de score', fontsize=16, pad=20)\n",
    "ax.set_xlabel('Faixa de Score', fontsize=14, labelpad=10)\n",
    "ax.set_ylabel('Qtde Clientes', fontsize=14, labelpad=10)\n",
    "ax.set_xticks(x)\n",
    "ax.set_xticklabels(data[\"faixa_score\"])\n",
    "\n",
    "# colocando o rótulo nas barras\n",
    "ax.bar_label(grafico_1_unidade, fmt=\"%.f\", size=10, label_type=\"edge\")\n",
    "plt.savefig('distribuicao_saldo_em_aberto.png');"
   ]
  },
  {
   "cell_type": "code",
   "execution_count": 54,
   "id": "17b137ef-dc57-4c96-93fd-51082679423d",
   "metadata": {},
   "outputs": [],
   "source": [
    "data = df2[['faixa_score','mean']]"
   ]
  },
  {
   "cell_type": "code",
   "execution_count": 55,
   "id": "f70a93d6-b323-4887-8d14-f473c9dd552a",
   "metadata": {},
   "outputs": [],
   "source": [
    "data['mean'] = data['mean']*(-1)"
   ]
  },
  {
   "cell_type": "code",
   "execution_count": 56,
   "id": "179c9fe9-fbc3-4afe-8d34-8f8be1d811ff",
   "metadata": {},
   "outputs": [
    {
     "data": {
      "image/png": "[encoded data removed]",
      "text/plain": [
       "<Figure size 864x576 with 1 Axes>"
      ]
     },
     "metadata": {
      "needs_background": "light"
     },
     "output_type": "display_data"
    }
   ],
   "source": [
    "fig, ax = plt.subplots(figsize=(12, 8))\n",
    "\n",
    "x = np.arange(len(data[\"faixa_score\"]))\n",
    "\n",
    "# Plotando o gráfico da 1ª Unidade\n",
    "grafico_1_unidade = ax.bar(x = x, height=\"mean\",  data=data) \n",
    "ax.set_title('Distribuição do saldo médio em aberto por faixa de score', fontsize=16, pad=20)\n",
    "ax.set_xlabel('Faixa de Score', fontsize=14, labelpad=10)\n",
    "ax.set_ylabel('Média de saldo em aberto', fontsize=14, labelpad=10)\n",
    "ax.set_xticks(x)\n",
    "ax.set_xticklabels(data[\"faixa_score\"])\n",
    "\n",
    "# colocando o rótulo nas barras\n",
    "ax.bar_label(grafico_1_unidade, fmt=\"%.f\", size=10, label_type=\"edge\")\n",
    "plt.savefig('distribuicao_media_saldo_aberto.png');"
   ]
  },
  {
   "cell_type": "code",
   "execution_count": 57,
   "id": "e9485943-5739-4ff5-b796-7fb4368c79a9",
   "metadata": {},
   "outputs": [],
   "source": [
    "data = df2[['faixa_score','potencial_perda']]"
   ]
  },
  {
   "cell_type": "code",
   "execution_count": 58,
   "id": "37076746-1923-40d6-b9a3-98abcdc6c696",
   "metadata": {},
   "outputs": [],
   "source": [
    "data['mean'] = data['potencial_perda']*(-1)"
   ]
  },
  {
   "cell_type": "code",
   "execution_count": 59,
   "id": "b22256cc-a639-41cc-b69a-4f8827f265c9",
   "metadata": {},
   "outputs": [
    {
     "data": {
      "image/png": "[encoded data removed]",
      "text/plain": [
       "<Figure size 864x576 with 1 Axes>"
      ]
     },
     "metadata": {
      "needs_background": "light"
     },
     "output_type": "display_data"
    }
   ],
   "source": [
    "fig, ax = plt.subplots(figsize=(12, 8))\n",
    "\n",
    "x = np.arange(len(data[\"faixa_score\"]))\n",
    "\n",
    "# Plotando o gráfico da 1ª Unidade\n",
    "grafico_1_unidade = ax.bar(x = x, height=\"mean\",  data=data) \n",
    "ax.set_title('Distribuição da perda potencial por faixa de score', fontsize=16, pad=20)\n",
    "ax.set_xlabel('Faixa de Score', fontsize=14, labelpad=10)\n",
    "ax.set_ylabel('Potencial Perda', fontsize=14, labelpad=10)\n",
    "ax.set_xticks(x)\n",
    "ax.set_xticklabels(data[\"faixa_score\"])\n",
    "\n",
    "# colocando o rótulo nas barras\n",
    "ax.bar_label(grafico_1_unidade, fmt=\"%.f\", size=10, label_type=\"edge\")\n",
    "plt.savefig('distribuicao_potencial_perda.png');"
   ]
  },
  {
   "cell_type": "code",
   "execution_count": 60,
   "id": "3e0f988a-98be-4816-84c2-af55cb981cb8",
   "metadata": {},
   "outputs": [],
   "source": [
    "df_model = df[df['max_score']!='sem_score']"
   ]
  },
  {
   "cell_type": "code",
   "execution_count": 121,
   "id": "c9d332be-a8af-4a60-915a-444487b5d299",
   "metadata": {},
   "outputs": [],
   "source": [
    "X = np.array(df_model[['soma_ctr','max_score']])"
   ]
  },
  {
   "cell_type": "code",
   "execution_count": 125,
   "id": "5c8e5810-7f30-41de-9386-2d81dca675ae",
   "metadata": {},
   "outputs": [
    {
     "data": {
      "text/plain": [
       "(10833, 2)"
      ]
     },
     "execution_count": 125,
     "metadata": {},
     "output_type": "execute_result"
    }
   ],
   "source": [
    "X.shape"
   ]
  },
  {
   "cell_type": "code",
   "execution_count": 126,
   "id": "b095729b-a456-452a-be40-f02cfb022a96",
   "metadata": {},
   "outputs": [],
   "source": [
    "y = np.array(df_model['soma_pgto']).ravel() "
   ]
  },
  {
   "cell_type": "code",
   "execution_count": 127,
   "id": "f3ff12b5-2fa1-4f66-8925-c73f7b887e87",
   "metadata": {},
   "outputs": [
    {
     "data": {
      "text/plain": [
       "(10833,)"
      ]
     },
     "execution_count": 127,
     "metadata": {},
     "output_type": "execute_result"
    }
   ],
   "source": [
    "y.shape"
   ]
  },
  {
   "cell_type": "code",
   "execution_count": 90,
   "id": "bb0f44c2-4f61-4675-9f24-05c88e39d749",
   "metadata": {},
   "outputs": [],
   "source": [
    "X_train, X_test, y_train, y_test = train_test_split(X, y, random_state=0, train_size = .75)"
   ]
  },
  {
   "cell_type": "code",
   "execution_count": 93,
   "id": "7a9122b4-cbeb-44cc-905d-27e56875a14a",
   "metadata": {},
   "outputs": [],
   "source": [
    "# Create linear regression object\n",
    "regr = linear_model.LinearRegression()"
   ]
  },
  {
   "cell_type": "code",
   "execution_count": 104,
   "id": "d1da548c-9652-4126-808c-c71059adb450",
   "metadata": {},
   "outputs": [
    {
     "data": {
      "text/plain": [
       "LinearRegression()"
      ]
     },
     "execution_count": 104,
     "metadata": {},
     "output_type": "execute_result"
    }
   ],
   "source": [
    "# Train the model using the training sets\n",
    "regr.fit(X_train, y_train)"
   ]
  },
  {
   "cell_type": "code",
   "execution_count": 105,
   "id": "26b67c4a-f211-48d8-8205-eaad8ba17698",
   "metadata": {},
   "outputs": [],
   "source": [
    "# Make predictions using the testing set\n",
    "y_pred = regr.predict(X_test)"
   ]
  },
  {
   "cell_type": "code",
   "execution_count": 128,
   "id": "3c82e8b2-9175-4fc0-88a3-b54fbe07f23b",
   "metadata": {},
   "outputs": [
    {
     "name": "stdout",
     "output_type": "stream",
     "text": [
      "Coefficients: \n",
      " [   0.76769236 -413.96511024]\n",
      "Mean squared error: 95448.73\n",
      "Coefficient of determination: 0.87\n"
     ]
    },
    {
     "data": {
      "image/png": "[encoded data removed]",
      "text/plain": [
       "<Figure size 432x288 with 1 Axes>"
      ]
     },
     "metadata": {},
     "output_type": "display_data"
    }
   ],
   "source": [
    "# The coefficients\n",
    "print(\"Coefficients: \\n\", regr.coef_)\n",
    "# The mean squared error\n",
    "print(\"Mean squared error: %.2f\" % mean_squared_error(y_test, y_pred))\n",
    "# The coefficient of determination: 1 is perfect prediction\n",
    "print(\"Coefficient of determination: %.2f\" % r2_score(y_test, y_pred))\n",
    "\n",
    "# Plot outputs\n",
    "plt.scatter(X_test[:, 0], y_test, color=\"black\")\n",
    "plt.plot(X_test[:, 0], y_pred, color=\"blue\", linewidth=3)\n",
    "\n",
    "plt.xticks(())\n",
    "plt.yticks(())\n",
    "\n",
    "plt.show()"
   ]
  },
  {
   "cell_type": "code",
   "execution_count": 103,
   "id": "f2b92ec8-7378-47e9-8bfc-e972d1798ee3",
   "metadata": {},
   "outputs": [
    {
     "data": {
      "text/plain": [
       "array([   0.78516957, -415.01934173])"
      ]
     },
     "execution_count": 103,
     "metadata": {},
     "output_type": "execute_result"
    }
   ],
   "source": [
    "# Visualizando o coeficiente angular\n",
    "reg.coef_"
   ]
  },
  {
   "cell_type": "code",
   "execution_count": 78,
   "id": "b11b47e8-8ee7-43da-947a-02d5591b53f7",
   "metadata": {},
   "outputs": [
    {
     "data": {
      "text/plain": [
       "176.07030798873484"
      ]
     },
     "execution_count": 78,
     "metadata": {},
     "output_type": "execute_result"
    }
   ],
   "source": [
    "# Visualizando o coeficiente linear\n",
    "reg.intercept_"
   ]
  },
  {
   "cell_type": "code",
   "execution_count": 74,
   "id": "25249f04-1ca7-42a1-9adf-2e5e2ff977ee",
   "metadata": {},
   "outputs": [],
   "source": [
    "# Aplicando o Predict e adicionando o resultado no Dataframe \n"
   ]
  },
  {
   "cell_type": "code",
   "execution_count": 76,
   "id": "2ecdaaf6-20f3-426e-9b96-8c8600c038a0",
   "metadata": {},
   "outputs": [],
   "source": [
    "# Calculando o erro da reta e da regressão\n"
   ]
  },
  {
   "cell_type": "code",
   "execution_count": 89,
   "id": "9b84b2c3-1321-4e0f-836d-1d90a328eff2",
   "metadata": {},
   "outputs": [],
   "source": [
    "X_train, X_test, y_train, y_test = train_test_split(X, y, random_state=0, train_size = .75)"
   ]
  },
  {
   "cell_type": "code",
   "execution_count": null,
   "id": "46bd259c-05c3-4285-8098-e97b9a8a3919",
   "metadata": {},
   "outputs": [],
   "source": []
  },
  {
   "cell_type": "code",
   "execution_count": 75,
   "id": "27495237-d55d-4cce-876e-3b3c56e081f5",
   "metadata": {},
   "outputs": [
    {
     "data": {
      "text/plain": [
       "array([836.73407136])"
      ]
     },
     "execution_count": 75,
     "metadata": {},
     "output_type": "execute_result"
    }
   ],
   "source": [
    "model.predict(np.array([[1000,.3]]))"
   ]
  },
  {
   "cell_type": "code",
   "execution_count": null,
   "id": "dd49c295-0be7-4387-95d1-9faab35e8952",
   "metadata": {},
   "outputs": [],
   "source": []
  },
  {
   "cell_type": "code",
   "execution_count": null,
   "id": "5e1c5147-9cce-4096-adf2-2d06ee301839",
   "metadata": {},
   "outputs": [],
   "source": []
  },
  {
   "cell_type": "code",
   "execution_count": null,
   "id": "9e44aab3-9459-47aa-8b99-fbfc72255255",
   "metadata": {},
   "outputs": [],
   "source": []
  },
  {
   "cell_type": "code",
   "execution_count": null,
   "id": "9429aca1-0f5f-4aad-80d2-d69907cc13b4",
   "metadata": {},
   "outputs": [],
   "source": []
  },
  {
   "cell_type": "code",
   "execution_count": null,
   "id": "44201527-40d1-428c-8cc9-6e781a71cf55",
   "metadata": {},
   "outputs": [],
   "source": []
  },
  {
   "cell_type": "code",
   "execution_count": null,
   "id": "cc5de189-0e43-44b7-a7b2-7abd6e672020",
   "metadata": {},
   "outputs": [],
   "source": []
  },
  {
   "cell_type": "code",
   "execution_count": null,
   "id": "12694912-509a-4bea-bb70-4b116bb4a897",
   "metadata": {},
   "outputs": [],
   "source": []
  },
  {
   "cell_type": "markdown",
   "id": "9386412b-4a71-4187-b998-c4dc7f7dfe6d",
   "metadata": {},
   "source": [
    "## Conclusão"
   ]
  },
  {
   "cell_type": "code",
   "execution_count": null,
   "id": "3567dcb9-0e6b-4f24-a4b3-1e98e38c87c7",
   "metadata": {},
   "outputs": [],
   "source": []
  }
 ],
 "metadata": {
  "kernelspec": {
   "display_name": "Python 3 (ipykernel)",
   "language": "python",
   "name": "python3"
  },
  "language_info": {
   "codemirror_mode": {
    "name": "ipython",
    "version": 3
   },
   "file_extension": ".py",
   "mimetype": "text/x-python",
   "name": "python",
   "nbconvert_exporter": "python",
   "pygments_lexer": "ipython3",
   "version": "3.9.7"
  }
 },
 "nbformat": 4,
 "nbformat_minor": 5
}
